{
 "cells": [
  {
   "cell_type": "markdown",
   "id": "f1bdf2ba-42b9-48cc-aa1f-5770f6140481",
   "metadata": {},
   "source": [
    "### CIFAR10\n",
    "\n",
    "In this notebook, we demonstrate how to compile a LITDataset from CIFAR10 data.\n",
    "\n",
    "Note that the filepaths are imported from a `localpaths.py` module in this example."
   ]
  },
  {
   "cell_type": "code",
   "execution_count": 1,
   "id": "20d40f7c-4910-45e0-b9a5-e8fd666a0a17",
   "metadata": {
    "tags": []
   },
   "outputs": [],
   "source": [
    "%load_ext autoreload\n",
    "%autoreload 2\n",
    "%matplotlib inline"
   ]
  },
  {
   "cell_type": "code",
   "execution_count": 2,
   "id": "40b92cc9-1c2e-4d0c-bbe2-147c05256128",
   "metadata": {
    "tags": []
   },
   "outputs": [],
   "source": [
    "import numpy as np\n",
    "import pickle\n",
    "import os\n",
    "import json\n",
    "import torch\n",
    "import torch.nn as nn\n",
    "import torchvision\n",
    "import torchvision.transforms as transforms\n",
    "import matplotlib.pyplot as plt\n",
    "import tarfile\n",
    "import xml\n",
    "import sys\n",
    "\n",
    "from io import BytesIO\n",
    "from PIL import Image\n",
    "from IPython import display"
   ]
  },
  {
   "cell_type": "code",
   "execution_count": 3,
   "id": "e2cd8911-da13-43d3-a71b-955adcb6802f",
   "metadata": {
    "tags": []
   },
   "outputs": [],
   "source": [
    "sys.path.append('..')\n",
    "from litdata.writer import LITWriter\n",
    "from litdata.litdata import LITDataset"
   ]
  },
  {
   "cell_type": "code",
   "execution_count": 4,
   "id": "10874467-9eaa-4f76-a3fa-52e524107012",
   "metadata": {
    "tags": []
   },
   "outputs": [],
   "source": [
    "from localpaths import CIFAR10_TAR_PATH, LITDATAPATH"
   ]
  },
  {
   "cell_type": "code",
   "execution_count": 5,
   "id": "69d1bcb7-d38e-49e8-9fcf-1606b2c57f2e",
   "metadata": {
    "tags": []
   },
   "outputs": [],
   "source": [
    "tarfiledict = {}\n",
    "with tarfile.open(CIFAR10_TAR_PATH, 'r') as tarfile:\n",
    "    members = tarfile.getmembers()\n",
    "    for member in members:\n",
    "        if '_batch' in member.name:\n",
    "            name = member.name.split('/')[-1]\n",
    "            tarfiledict[name] = pickle.loads(tarfile.extractfile(member).read(), encoding='bytes')\n",
    "        elif 'meta' in member.name:\n",
    "            name = member.name.split('/')[-1]\n",
    "            meta = pickle.loads(tarfile.extractfile(member).read(), encoding='bytes')"
   ]
  },
  {
   "cell_type": "code",
   "execution_count": 6,
   "id": "506fedec-f559-4870-917b-91ebbe9b54ac",
   "metadata": {
    "tags": []
   },
   "outputs": [],
   "source": [
    "def get_objdict(index):\n",
    "    fileindex = index % 10000\n",
    "    batchindex = index // 10000\n",
    "    if batchindex >= 5:\n",
    "        istest = True\n",
    "        dctkey = 'test_batch'\n",
    "    else:\n",
    "        istest = False\n",
    "        dctkey = f'data_batch_{batchindex+1}'\n",
    "    \n",
    "    curdct = tarfiledict[dctkey]\n",
    "    label = curdct[b'labels'][fileindex]\n",
    "    fname = curdct[b'filenames'][fileindex]\n",
    "    key, ext = os.path.splitext(fname)\n",
    "    img = Image.fromarray(curdct[b'data'][fileindex].reshape(3, 32, 32).transpose(1,2,0))\n",
    "    img.format = ext[1:].decode()\n",
    "    \n",
    "    return {\n",
    "        '__key__': key.decode(),\n",
    "        f'{ext[1:].decode()}': img,\n",
    "        'cls': label,\n",
    "    }, istest\n",
    "    "
   ]
  },
  {
   "cell_type": "code",
   "execution_count": 7,
   "id": "5353d6d8-9c25-4d86-8e19-978cb67ab885",
   "metadata": {
    "tags": []
   },
   "outputs": [],
   "source": [
    "labeldict = [bt.decode() for bt in meta[b'label_names']]\n",
    "additional_metadata = {\n",
    "    'website': 'https://www.cs.toronto.edu/~kriz/cifar.html',\n",
    "    'num_classes': 10,\n",
    "    'class_names': labeldict,\n",
    "}"
   ]
  },
  {
   "cell_type": "code",
   "execution_count": 8,
   "id": "d8b543db-0564-40d5-b369-a4cf7ab83e43",
   "metadata": {
    "tags": []
   },
   "outputs": [
    {
     "name": "stdout",
     "output_type": "stream",
     "text": [
      "val   :          59750/       60000\n",
      "ShardWriter(\n",
      "\tCurrent Shard: /work2/litdata/CIFAR10/val_0000.tar\n",
      "\tCurrent Shard Size: 0.02 GB\n",
      "\tCurrent Shard File Count: 9751\n",
      "\tTotal File Count: 9751\n",
      ")\n"
     ]
    }
   ],
   "source": [
    "with LITWriter(\n",
    "    'CIFAR10', \n",
    "    LITDATAPATH, \n",
    "    additional_metadata=additional_metadata,\n",
    "    groupname = 'DSB@UiO',\n",
    "    shard_maxfiles = 10000,\n",
    ") as litwriter:\n",
    "    for i in range(60000):\n",
    "        objdict, istest = get_objdict(i)\n",
    "        if istest:\n",
    "            litwriter.val.write(objdict)\n",
    "        else:\n",
    "            litwriter.train.write(objdict)\n",
    "        \n",
    "        if i % 250 == 0:\n",
    "            display.clear_output(wait=True)\n",
    "            curfold = 'val' if istest else 'train'\n",
    "            print(f'{curfold:6}:   {i:12d}/{60000:12d}')\n",
    "            if istest:\n",
    "                print(litwriter.val)\n",
    "            else:\n",
    "                print(litwriter.train)"
   ]
  },
  {
   "cell_type": "code",
   "execution_count": 9,
   "id": "3b33cd21-ec89-468d-8755-991b15aee802",
   "metadata": {
    "tags": []
   },
   "outputs": [],
   "source": [
    "dataset = LITDataset('CIFAR10', LITDATAPATH)"
   ]
  },
  {
   "cell_type": "code",
   "execution_count": 10,
   "id": "84774fc9-c011-4cbb-9e28-66b459c3c66d",
   "metadata": {
    "tags": []
   },
   "outputs": [
    {
     "data": {
      "image/png": "[encoded data removed]",
      "text/plain": [
       "<PIL.PngImagePlugin.PngImageFile image mode=RGB size=32x32>"
      ]
     },
     "execution_count": 10,
     "metadata": {},
     "output_type": "execute_result"
    }
   ],
   "source": [
    "dataset[0][0]"
   ]
  },
  {
   "cell_type": "code",
   "execution_count": 11,
   "id": "355387e2-6438-42e8-a200-32b2b98efde3",
   "metadata": {},
   "outputs": [
    {
     "data": {
      "text/plain": [
       "LITDataset(\n",
       "    \tfold=train,\n",
       "\tlength=50000,\n",
       "\tuse_extensions=('.png', '.cls'),\n",
       "\twebsite = https://www.cs.toronto.edu/~kriz/cifar.html,\n",
       "\tnum_classes = 10,\n",
       "\tclass_names = ['airplane', 'automobile', 'bird', 'cat', 'deer', 'dog', 'frog', 'horse', 'ship', 'truck'],\n",
       "\tnum_train = 50000,\n",
       "\tnum_val = 10000,\n",
       ")"
      ]
     },
     "execution_count": 11,
     "metadata": {},
     "output_type": "execute_result"
    }
   ],
   "source": [
    "dataset"
   ]
  }
 ],
 "metadata": {
  "kernelspec": {
   "display_name": "Python 3 (ipykernel)",
   "language": "python",
   "name": "python3"
  },
  "language_info": {
   "codemirror_mode": {
    "name": "ipython",
    "version": 3
   },
   "file_extension": ".py",
   "mimetype": "text/x-python",
   "name": "python",
   "nbconvert_exporter": "python",
   "pygments_lexer": "ipython3",
   "version": "3.10.4"
  }
 },
 "nbformat": 4,
 "nbformat_minor": 5
}
